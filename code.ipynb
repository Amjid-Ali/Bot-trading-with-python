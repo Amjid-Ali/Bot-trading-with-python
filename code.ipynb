{
 "cells": [
  {
   "cell_type": "markdown",
   "id": "930c7a0e",
   "metadata": {},
   "source": [
    "# option one   => this isn't knimi workflow"
   ]
  },
  {
   "cell_type": "code",
   "execution_count": null,
   "id": "722ade2f",
   "metadata": {},
   "outputs": [],
   "source": [
    "import requests\n",
    "\n",
    "# Replace <KEY_ID> and <SECRET_KEY> with your Alpaca API keys (user need to provide the key and secret code) \n",
    "API_KEY_ID = \"<KEY_ID>\"\n",
    "SECRET_KEY = \"<SECRET_KEY>\"\n",
    "\n",
    "# Base URL for Alpaca's paper trading API   (this is the end point of the site, user need to provide this as well)\n",
    "BASE_URL = \"https://paper-api.alpaca.markets\"\n",
    "\n",
    "# Endpoint for creating an order\n",
    "ORDERS_URL = BASE_URL + \"/v2/orders\"\n",
    "\n",
    "# Set up the headers for the API call, (headers carries information such as user key and secret code)\n",
    "headers = {\n",
    "    \"APCA-API-KEY-ID\": API_KEY_ID,\n",
    "    \"APCA-API-SECRET-KEY\": SECRET_KEY\n",
    "}\n",
    "\n",
    "# Specify the order parameters\n",
    "# paramters => what to buy(name), qty of coin, type like limit as well as how many $ to invest in that \n",
    "order_data = {\n",
    "    \"symbol\": \"AAPL\",\n",
    "    \"qty\": 100,\n",
    "    \"side\": \"buy\",\n",
    "    \"type\": \"limit\",\n",
    "    \"time_in_force\": \"gtc\",\n",
    "    \"limit_price\": \"100.00\"\n",
    "}\n",
    "\n",
    "# Make the API call\n",
    "# making the api call to submit the data\n",
    "response = requests.post(ORDERS_URL, json=order_data, headers=headers)\n",
    "\n",
    "# Check if the order was successfully created\n",
    "if response.status_code == 201:\n",
    "    print(\"Order created successfully\")\n",
    "else:\n",
    "    print(\"Failed to create order. Response code:\", response.status_code)\n"
   ]
  },
  {
   "cell_type": "code",
   "execution_count": 1,
   "id": "684c9587",
   "metadata": {},
   "outputs": [
    {
     "name": "stdout",
     "output_type": "stream",
     "text": [
      "Collecting alpaca-py\n",
      "  Downloading alpaca_py-0.7.1-py3-none-any.whl (95 kB)\n",
      "     -------------------------------------- 95.4/95.4 kB 455.2 kB/s eta 0:00:00\n",
      "Requirement already satisfied: pandas<2.0.0,>=1.3.5 in c:\\programdata\\anaconda3\\envs\\saad\\lib\\site-packages (from alpaca-py) (1.3.5)\n",
      "Requirement already satisfied: websockets<11.0,>=10.2 in c:\\programdata\\anaconda3\\envs\\saad\\lib\\site-packages (from alpaca-py) (10.4)\n",
      "Collecting sseclient-py<2.0.0,>=1.7.2\n",
      "  Downloading sseclient_py-1.7.2-py2.py3-none-any.whl (8.4 kB)\n",
      "Requirement already satisfied: pydantic<2.0.0,>=1.9.0 in c:\\programdata\\anaconda3\\envs\\saad\\lib\\site-packages (from alpaca-py) (1.10.2)\n",
      "Requirement already satisfied: requests<3.0.0,>=2.27.1 in c:\\programdata\\anaconda3\\envs\\saad\\lib\\site-packages (from alpaca-py) (2.28.0)\n",
      "Requirement already satisfied: msgpack<2.0.0,>=1.0.3 in c:\\programdata\\anaconda3\\envs\\saad\\lib\\site-packages (from alpaca-py) (1.0.4)\n",
      "Requirement already satisfied: python-dateutil>=2.7.3 in c:\\programdata\\anaconda3\\envs\\saad\\lib\\site-packages (from pandas<2.0.0,>=1.3.5->alpaca-py) (2.8.2)\n",
      "Requirement already satisfied: pytz>=2017.3 in c:\\programdata\\anaconda3\\envs\\saad\\lib\\site-packages (from pandas<2.0.0,>=1.3.5->alpaca-py) (2022.6)\n",
      "Requirement already satisfied: numpy>=1.17.3 in c:\\programdata\\anaconda3\\envs\\saad\\lib\\site-packages (from pandas<2.0.0,>=1.3.5->alpaca-py) (1.21.6)\n",
      "Requirement already satisfied: typing-extensions>=4.1.0 in c:\\programdata\\anaconda3\\envs\\saad\\lib\\site-packages (from pydantic<2.0.0,>=1.9.0->alpaca-py) (4.1.1)\n",
      "Requirement already satisfied: urllib3<1.27,>=1.21.1 in c:\\programdata\\anaconda3\\envs\\saad\\lib\\site-packages (from requests<3.0.0,>=2.27.1->alpaca-py) (1.26.12)\n",
      "Requirement already satisfied: charset-normalizer~=2.0.0 in c:\\programdata\\anaconda3\\envs\\saad\\lib\\site-packages (from requests<3.0.0,>=2.27.1->alpaca-py) (2.0.12)\n",
      "Requirement already satisfied: idna<4,>=2.5 in c:\\programdata\\anaconda3\\envs\\saad\\lib\\site-packages (from requests<3.0.0,>=2.27.1->alpaca-py) (3.3)\n",
      "Requirement already satisfied: certifi>=2017.4.17 in c:\\programdata\\anaconda3\\envs\\saad\\lib\\site-packages (from requests<3.0.0,>=2.27.1->alpaca-py) (2022.5.18.1)\n",
      "Requirement already satisfied: six>=1.5 in c:\\programdata\\anaconda3\\envs\\saad\\lib\\site-packages (from python-dateutil>=2.7.3->pandas<2.0.0,>=1.3.5->alpaca-py) (1.15.0)\n",
      "Installing collected packages: sseclient-py, alpaca-py\n",
      "Successfully installed alpaca-py-0.7.1 sseclient-py-1.7.2\n"
     ]
    },
    {
     "name": "stderr",
     "output_type": "stream",
     "text": [
      "WARNING: Ignoring invalid distribution -rotobuf (c:\\programdata\\anaconda3\\envs\\saad\\lib\\site-packages)\n",
      "WARNING: Ignoring invalid distribution -rompt-toolkit (c:\\programdata\\anaconda3\\envs\\saad\\lib\\site-packages)\n",
      "WARNING: Ignoring invalid distribution -pype1 (c:\\programdata\\anaconda3\\envs\\saad\\lib\\site-packages)\n",
      "WARNING: Ignoring invalid distribution -ecorator (c:\\programdata\\anaconda3\\envs\\saad\\lib\\site-packages)\n",
      "WARNING: Ignoring invalid distribution -rotobuf (c:\\programdata\\anaconda3\\envs\\saad\\lib\\site-packages)\n",
      "WARNING: Ignoring invalid distribution -rompt-toolkit (c:\\programdata\\anaconda3\\envs\\saad\\lib\\site-packages)\n",
      "WARNING: Ignoring invalid distribution -pype1 (c:\\programdata\\anaconda3\\envs\\saad\\lib\\site-packages)\n",
      "WARNING: Ignoring invalid distribution -ecorator (c:\\programdata\\anaconda3\\envs\\saad\\lib\\site-packages)\n",
      "WARNING: Ignoring invalid distribution -rotobuf (c:\\programdata\\anaconda3\\envs\\saad\\lib\\site-packages)\n",
      "WARNING: Ignoring invalid distribution -rompt-toolkit (c:\\programdata\\anaconda3\\envs\\saad\\lib\\site-packages)\n",
      "WARNING: Ignoring invalid distribution -pype1 (c:\\programdata\\anaconda3\\envs\\saad\\lib\\site-packages)\n",
      "WARNING: Ignoring invalid distribution -ecorator (c:\\programdata\\anaconda3\\envs\\saad\\lib\\site-packages)\n",
      "WARNING: Ignoring invalid distribution -rotobuf (c:\\programdata\\anaconda3\\envs\\saad\\lib\\site-packages)\n",
      "WARNING: Ignoring invalid distribution -rompt-toolkit (c:\\programdata\\anaconda3\\envs\\saad\\lib\\site-packages)\n",
      "WARNING: Ignoring invalid distribution -pype1 (c:\\programdata\\anaconda3\\envs\\saad\\lib\\site-packages)\n",
      "WARNING: Ignoring invalid distribution -ecorator (c:\\programdata\\anaconda3\\envs\\saad\\lib\\site-packages)\n",
      "WARNING: Ignoring invalid distribution -rotobuf (c:\\programdata\\anaconda3\\envs\\saad\\lib\\site-packages)\n",
      "WARNING: Ignoring invalid distribution -rompt-toolkit (c:\\programdata\\anaconda3\\envs\\saad\\lib\\site-packages)\n",
      "WARNING: Ignoring invalid distribution -pype1 (c:\\programdata\\anaconda3\\envs\\saad\\lib\\site-packages)\n",
      "WARNING: Ignoring invalid distribution -ecorator (c:\\programdata\\anaconda3\\envs\\saad\\lib\\site-packages)\n",
      "WARNING: Ignoring invalid distribution -rotobuf (c:\\programdata\\anaconda3\\envs\\saad\\lib\\site-packages)\n",
      "WARNING: Ignoring invalid distribution -rompt-toolkit (c:\\programdata\\anaconda3\\envs\\saad\\lib\\site-packages)\n",
      "WARNING: Ignoring invalid distribution -pype1 (c:\\programdata\\anaconda3\\envs\\saad\\lib\\site-packages)\n",
      "WARNING: Ignoring invalid distribution -ecorator (c:\\programdata\\anaconda3\\envs\\saad\\lib\\site-packages)\n",
      "WARNING: Ignoring invalid distribution -rotobuf (c:\\programdata\\anaconda3\\envs\\saad\\lib\\site-packages)\n",
      "WARNING: Ignoring invalid distribution -rompt-toolkit (c:\\programdata\\anaconda3\\envs\\saad\\lib\\site-packages)\n",
      "WARNING: Ignoring invalid distribution -pype1 (c:\\programdata\\anaconda3\\envs\\saad\\lib\\site-packages)\n",
      "WARNING: Ignoring invalid distribution -ecorator (c:\\programdata\\anaconda3\\envs\\saad\\lib\\site-packages)\n",
      "WARNING: Ignoring invalid distribution -rotobuf (c:\\programdata\\anaconda3\\envs\\saad\\lib\\site-packages)\n",
      "WARNING: Ignoring invalid distribution -rompt-toolkit (c:\\programdata\\anaconda3\\envs\\saad\\lib\\site-packages)\n",
      "WARNING: Ignoring invalid distribution -pype1 (c:\\programdata\\anaconda3\\envs\\saad\\lib\\site-packages)\n",
      "WARNING: Ignoring invalid distribution -ecorator (c:\\programdata\\anaconda3\\envs\\saad\\lib\\site-packages)\n",
      "\n",
      "[notice] A new release of pip available: 22.2.2 -> 23.0\n",
      "[notice] To update, run: python.exe -m pip install --upgrade pip\n"
     ]
    }
   ],
   "source": [
    "!pip install alpaca-py"
   ]
  },
  {
   "cell_type": "code",
   "execution_count": null,
   "id": "0ee2dd95",
   "metadata": {},
   "outputs": [],
   "source": [
    "# Importing the API and instantiating the REST client according to our keys\n",
    "from alpaca.trading.client import TradingClient\n",
    "\n",
    "API_KEY = \"<Your API Key>\"\n",
    "SECRET_KEY = \"<Your Secret Key>\"\n",
    "\n",
    "trading_client = TradingClient(API_KEY, SECRET_KEY, paper=True)"
   ]
  },
  {
   "cell_type": "code",
   "execution_count": null,
   "id": "23d8f558",
   "metadata": {},
   "outputs": [],
   "source": [
    "# Getting account information and printing it\n",
    "account = trading_client.get_account()\n",
    "for property_name, value in account:\n",
    "  print(f\"\\\"{property_name}\\\": {value}\")"
   ]
  },
  {
   "cell_type": "markdown",
   "id": "1be9ef1f",
   "metadata": {},
   "source": [
    "# placing buy order"
   ]
  },
  {
   "cell_type": "code",
   "execution_count": null,
   "id": "02d914e8",
   "metadata": {},
   "outputs": [],
   "source": [
    "from alpaca.trading.requests import MarketOrderRequest\n",
    "from alpaca.trading.enums import OrderSide, TimeInForce\n",
    "\n",
    "\n",
    "# as mentioned above this work the same, but this is framework base code\n",
    "\n",
    "# Setting parameters for our buy order\n",
    "market_order_data = MarketOrderRequest(\n",
    "                      symbol=\"BTC/USD\",\n",
    "                      qty=1,\n",
    "                      side=OrderSide.BUY,\n",
    "                      time_in_force=TimeInForce.GTC\n",
    "                  )"
   ]
  },
  {
   "cell_type": "code",
   "execution_count": null,
   "id": "b10e98f6",
   "metadata": {},
   "outputs": [],
   "source": [
    "# Submitting the order and then printing the returned object\n",
    "market_order = trading_client.submit_order(market_order_data)\n",
    "for property_name, value in market_order:\n",
    "    print(f\"\\\"{property_name}\\\": {value}\")"
   ]
  },
  {
   "cell_type": "markdown",
   "id": "f3baca33",
   "metadata": {},
   "source": [
    "# data save to csv file"
   ]
  },
  {
   "cell_type": "code",
   "execution_count": null,
   "id": "bd336125",
   "metadata": {},
   "outputs": [],
   "source": [
    "import pandas as pd\n",
    "\n",
    "pd.DataFrame(market_order).to_csv(\"./workflow.csv\")"
   ]
  },
  {
   "cell_type": "code",
   "execution_count": null,
   "id": "6a4300e9",
   "metadata": {},
   "outputs": [],
   "source": [
    "# Get all open positions and print each of them\n",
    "positions = trading_client.get_all_positions()\n",
    "for position in positions:\n",
    "    for property_name, value in position:\n",
    "        print(f\"\\\"{property_name}\\\": {value}\")"
   ]
  },
  {
   "cell_type": "code",
   "execution_count": null,
   "id": "952da97e",
   "metadata": {},
   "outputs": [],
   "source": []
  },
  {
   "cell_type": "code",
   "execution_count": null,
   "id": "78056835",
   "metadata": {},
   "outputs": [],
   "source": []
  }
 ],
 "metadata": {
  "kernelspec": {
   "display_name": "Python 3 (ipykernel)",
   "language": "python",
   "name": "python3"
  },
  "language_info": {
   "codemirror_mode": {
    "name": "ipython",
    "version": 3
   },
   "file_extension": ".py",
   "mimetype": "text/x-python",
   "name": "python",
   "nbconvert_exporter": "python",
   "pygments_lexer": "ipython3",
   "version": "3.7.13"
  }
 },
 "nbformat": 4,
 "nbformat_minor": 5
}
